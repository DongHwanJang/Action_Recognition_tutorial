{
 "cells": [
  {
   "cell_type": "code",
   "execution_count": null,
   "metadata": {},
   "outputs": [],
   "source": [
    "import tensorflow as tf\n",
    "import numpy as np\n",
    "import C3D_model\n",
    "import time\n",
    "import data_processing\n",
    "import os\n",
    "import os.path\n",
    "from os.path import join\n",
    "import pickle\n",
    "import tensorflow.contrib.slim as slim\n",
    "\n",
    "os.environ[\"CUDA_DEVICE_ORDER\"] = \"PCI_BUS_ID\"\n",
    "os.environ[\"CUDA_VISIBLE_DEVICES\"] = \"3\"\n",
    "os.environ[\"TF_CPP_MIN_LOG_LEVEL\"] = \"1\"\n",
    "TRAIN_LOG_DIR = os.path.join('Log/train/', time.strftime('%Y-%m-%d %H:%M:%S', time.localtime(time.time())))\n",
    "# pretrained checkpoint 디렉토리 \n",
    "TRAIN_CHECK_POINT = 'pretrained_C3D_checkpoint/'\n",
    "# TRAIN_CHECK_POINT = 'check_point/'\n",
    "# Non-local block 추가된 C3D 모델 checkpoint 저장 위치\n",
    "NL_CHECK_POINT = 'check_point_nl/'\n",
    "BATCH_SIZE = 10\n",
    "NUM_CLASSES = 11\n",
    "CROP_SIZE = 112\n",
    "CHANNEL_NUM = 3\n",
    "CLIP_LENGTH = 16\n",
    "EPOCH_NUM = 30\n",
    "LEARNING_RATE = 1e-5"
   ]
  },
  {
   "cell_type": "markdown",
   "metadata": {},
   "source": [
    "## 1) Load UCF11(UCF YouTube Action) Dataset Path"
   ]
  },
  {
   "cell_type": "code",
   "execution_count": null,
   "metadata": {},
   "outputs": [],
   "source": [
    "DATA_SPLIT_PATH = 'data_split.pkl'\n",
    "ucf11_dataset = pickle.load(open(DATA_SPLIT_PATH,'rb'))\n",
    "train_set = ucf11_dataset['train']\n",
    "test_set = ucf11_dataset['test']"
   ]
  },
  {
   "cell_type": "markdown",
   "metadata": {},
   "source": [
    "## 2) Get Shuffle Index"
   ]
  },
  {
   "cell_type": "code",
   "execution_count": null,
   "metadata": {},
   "outputs": [],
   "source": [
    "train_video_indices = data_processing.get_video_indices(len(train_set))\n",
    "test_video_indices = data_processing.get_video_indices(len(test_set))"
   ]
  },
  {
   "cell_type": "markdown",
   "metadata": {},
   "source": [
    "## 3) Set Graph "
   ]
  },
  {
   "cell_type": "code",
   "execution_count": null,
   "metadata": {},
   "outputs": [],
   "source": [
    "\n",
    "# Define graph\n",
    "    \n",
    "batch_clips = tf.placeholder(tf.float32, [BATCH_SIZE, CLIP_LENGTH, CROP_SIZE, CROP_SIZE, CHANNEL_NUM], name='X')\n",
    "batch_labels = tf.placeholder(tf.int32, [BATCH_SIZE, NUM_CLASSES], name='Y')\n",
    "keep_prob = tf.placeholder(tf.float32)\n",
    "logits = C3D_model.C3D(batch_clips, NUM_CLASSES, keep_prob, non_local=True)\n",
    "\n",
    "include_layers = ['C3D/conv1','C3D/conv2','C3D/conv3','C3D/conv4','C3D/conv5','C3D/fc6','C3D/fc7']\n",
    "variables_to_restore = slim.get_variables_to_restore(include=include_layers)\n",
    "\n",
    "with tf.name_scope('loss'):\n",
    "    loss = tf.reduce_mean(tf.nn.softmax_cross_entropy_with_logits(logits=logits, labels=batch_labels))\n",
    "    tf.summary.scalar('entropy_loss', loss)\n",
    "\n",
    "with tf.name_scope('accuracy'):\n",
    "    accuracy = tf.reduce_mean(tf.cast(tf.equal(tf.argmax(logits, 1), tf.argmax(batch_labels, 1)), np.float32))\n",
    "    tf.summary.scalar('accuracy', accuracy)\n",
    "\n",
    "optimizer = tf.train.AdamOptimizer(LEARNING_RATE).minimize(loss)\n",
    "saver = tf.train.Saver()\n",
    "restorer = tf.train.Saver(variables_to_restore)\n",
    "summary_op = tf.summary.merge_all()\n",
    "    \n",
    "    \n",
    "    "
   ]
  },
  {
   "cell_type": "markdown",
   "metadata": {},
   "source": [
    "### Load Pretrained Weight of C3D"
   ]
  },
  {
   "cell_type": "code",
   "execution_count": null,
   "metadata": {},
   "outputs": [],
   "source": [
    "# Load pretrained weight of C3D\n",
    "pretrained_path = tf.train.latest_checkpoint(TRAIN_CHECK_POINT)"
   ]
  },
  {
   "cell_type": "markdown",
   "metadata": {},
   "source": [
    "### Training C3D + Non_local Block"
   ]
  },
  {
   "cell_type": "code",
   "execution_count": null,
   "metadata": {},
   "outputs": [],
   "source": [
    "# Set graph\n",
    "config = tf.ConfigProto()\n",
    "config.gpu_options.allow_growth = True\n",
    "with tf.Session(config=config) as sess:\n",
    "    train_summary_writer = tf.summary.FileWriter(TRAIN_LOG_DIR, sess.graph)\n",
    "    sess.run(tf.global_variables_initializer())\n",
    "    sess.run(tf.local_variables_initializer())\n",
    "    if pretrained_path != 0:\n",
    "        restorer.restore(sess, pretrained_path)\n",
    "        print('Pretrained C3D Model is restored')\n",
    "        step = 0\n",
    "    for epoch in range(EPOCH_NUM):\n",
    "        accuracy_epoch = 0\n",
    "        loss_epoch = 0\n",
    "        batch_index = 0\n",
    "        for i in range(len(train_video_indices) // BATCH_SIZE):\n",
    "            step += 1\n",
    "            # Get Batch for Training\n",
    "            batch_data, batch_index = data_processing.get_batches(train_set, NUM_CLASSES, batch_index,\n",
    "                                                         train_video_indices, BATCH_SIZE)\n",
    "                \n",
    "            # Train\n",
    "            _, loss_out, accuracy_out, summary = sess.run([optimizer, loss, accuracy, summary_op],\n",
    "                                                        feed_dict={batch_clips:batch_data['clips'],\n",
    "                                                        batch_labels:batch_data['labels'],\n",
    "                                                        keep_prob: 0.5})\n",
    "            loss_epoch += loss_out\n",
    "            accuracy_epoch += accuracy_out\n",
    "\n",
    "            if i % 10 == 0:\n",
    "                print('Epoch %d, Batch %d: Loss is %.5f; Accuracy is %.5f'%(epoch+1, i, loss_out, accuracy_out))\n",
    "                train_summary_writer.add_summary(summary, step)\n",
    "\n",
    "        print('Epoch %d: Average loss is: %.5f; Average accuracy is: %.5f'%(epoch+1, loss_epoch / (len(train_video_indices) // BATCH_SIZE),\n",
    "                                                                                accuracy_epoch / (len(train_video_indices) // BATCH_SIZE)))\n",
    "        accuracy_epoch = 0\n",
    "        loss_epoch = 0\n",
    "        batch_index = 0\n",
    "            \n",
    "        # Get validation results\n",
    "        for i in range(len(test_video_indices) // BATCH_SIZE):\n",
    "            batch_data, batch_index = data_processing.get_batches(test_set, NUM_CLASSES, batch_index,\n",
    "                                                                      test_video_indices, BATCH_SIZE)\n",
    "            loss_out, accuracy_out = sess.run([loss, accuracy],\n",
    "                                                  feed_dict={batch_clips:batch_data['clips'],\n",
    "                                                             batch_labels:batch_data['labels'],\n",
    "                                                            keep_prob: 1.0})\n",
    "            loss_epoch += loss_out\n",
    "            accuracy_epoch += accuracy_out\n",
    "\n",
    "        print('Test loss is %.5f; Accuracy is %.5f'%(loss_epoch / (len(test_video_indices) // BATCH_SIZE),\n",
    "                                                               accuracy_epoch /(len(test_video_indices) // BATCH_SIZE)))\n",
    "        saver.save(sess, NL_CHECK_POINT + 'c3d_nonlocal_ckpt', global_step=epoch)"
   ]
  },
  {
   "cell_type": "code",
   "execution_count": null,
   "metadata": {},
   "outputs": [],
   "source": []
  }
 ],
 "metadata": {
  "kernelspec": {
   "display_name": "Python 3",
   "language": "python",
   "name": "python3"
  },
  "language_info": {
   "codemirror_mode": {
    "name": "ipython",
    "version": 3
   },
   "file_extension": ".py",
   "mimetype": "text/x-python",
   "name": "python",
   "nbconvert_exporter": "python",
   "pygments_lexer": "ipython3",
   "version": "3.5.2"
  }
 },
 "nbformat": 4,
 "nbformat_minor": 2
}
