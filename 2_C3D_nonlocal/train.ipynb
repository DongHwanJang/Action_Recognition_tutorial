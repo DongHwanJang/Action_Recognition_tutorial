{
 "cells": [
  {
   "cell_type": "code",
   "execution_count": 1,
   "metadata": {},
   "outputs": [
    {
     "name": "stderr",
     "output_type": "stream",
     "text": [
      "/usr/lib/python3.5/importlib/_bootstrap.py:222: RuntimeWarning: numpy.dtype size changed, may indicate binary incompatibility. Expected 88 from C header, got 96 from PyObject\n",
      "  return f(*args, **kwds)\n",
      "/usr/lib/python3.5/importlib/_bootstrap.py:222: RuntimeWarning: numpy.dtype size changed, may indicate binary incompatibility. Expected 96, got 88\n",
      "  return f(*args, **kwds)\n",
      "/usr/lib/python3.5/importlib/_bootstrap.py:222: RuntimeWarning: numpy.dtype size changed, may indicate binary incompatibility. Expected 96, got 88\n",
      "  return f(*args, **kwds)\n",
      "/usr/lib/python3.5/importlib/_bootstrap.py:222: RuntimeWarning: numpy.dtype size changed, may indicate binary incompatibility. Expected 96, got 88\n",
      "  return f(*args, **kwds)\n"
     ]
    }
   ],
   "source": [
    "import tensorflow as tf\n",
    "import numpy as np\n",
    "import C3D_model\n",
    "import time\n",
    "import data_processing\n",
    "import os\n",
    "import os.path\n",
    "from os.path import join\n",
    "import pickle\n",
    "\n",
    "#Run the code using selected GPU\n",
    "\n",
    "os.environ[\"CUDA_DEVICE_ORDER\"] = \"PCI_BUS_ID\"\n",
    "os.environ[\"CUDA_VISIBLE_DEVICES\"] = \"3\"\n",
    "\n",
    "#TF_CPP_MIN_LOG_LEVEL는 로그를 담당하는 TensorFlow 환경 변수로,\n",
    "#1 = INFO, 2 = WARNING, 3 = ERROR(권장하지 않음) 로그를 filter 한다.\n",
    "\n",
    "os.environ[\"TF_CPP_MIN_LOG_LEVEL\"] = \"1\"\n",
    "TRAIN_LOG_DIR = os.path.join('Log/train/', time.strftime('%Y-%m-%d %H:%M:%S', time.localtime(time.time())))\n",
    "TRAIN_CHECK_POINT = 'check_point/'\n",
    "\n",
    "#Experiment, Optimization options\n",
    "DATA_SPLIT_PATH = 'data_split.pkl'\n",
    "BATCH_SIZE = 10\n",
    "NUM_CLASSES = 11\n",
    "CROP_SZIE = 112\n",
    "CHANNEL_NUM = 3\n",
    "CLIP_LENGTH = 16\n",
    "EPOCH_NUM = 50\n",
    "LEARNING_RATE = 1e-4"
   ]
  },
  {
   "cell_type": "markdown",
   "metadata": {},
   "source": [
    "## 1) Load UCF11(UCF YouTube Action) dataset Path"
   ]
  },
  {
   "cell_type": "code",
   "execution_count": 2,
   "metadata": {},
   "outputs": [],
   "source": [
    "DATA_SPLIT_PATH = 'data_split.pkl'\n",
    "ucf11_dataset = pickle.load(open(DATA_SPLIT_PATH,'rb'))\n",
    "train_set = ucf11_dataset['train']\n",
    "test_set = ucf11_dataset['test']"
   ]
  },
  {
   "cell_type": "markdown",
   "metadata": {},
   "source": [
    "## 2) Get shuffle index"
   ]
  },
  {
   "cell_type": "code",
   "execution_count": 3,
   "metadata": {},
   "outputs": [],
   "source": [
    "train_video_indices = data_processing.get_video_indices(len(train_set))\n",
    "test_video_indices = data_processing.get_video_indices(len(test_set))"
   ]
  },
  {
   "cell_type": "markdown",
   "metadata": {},
   "source": [
    "## 3) Set Default Graph"
   ]
  },
  {
   "cell_type": "code",
   "execution_count": 4,
   "metadata": {},
   "outputs": [
    {
     "name": "stdout",
     "output_type": "stream",
     "text": [
      "WARNING:tensorflow:From <ipython-input-4-efdef2848790>:9: softmax_cross_entropy_with_logits (from tensorflow.python.ops.nn_ops) is deprecated and will be removed in a future version.\n",
      "Instructions for updating:\n",
      "\n",
      "Future major versions of TensorFlow will allow gradients to flow\n",
      "into the labels input on backprop by default.\n",
      "\n",
      "See `tf.nn.softmax_cross_entropy_with_logits_v2`.\n",
      "\n"
     ]
    }
   ],
   "source": [
    "#with tf.Graph().as_default():\n",
    "    # Define Graph\n",
    "batch_clips = tf.placeholder(tf.float32, [BATCH_SIZE, CLIP_LENGTH, CROP_SZIE, CROP_SZIE, CHANNEL_NUM], name='X')\n",
    "batch_labels = tf.placeholder(tf.int32, [BATCH_SIZE, NUM_CLASSES], name='Y')\n",
    "keep_prob = tf.placeholder(tf.float32)\n",
    "logits = C3D_model.C3D(batch_clips, NUM_CLASSES, keep_prob)\n",
    "\n",
    "with tf.name_scope('loss'):\n",
    "    loss = tf.reduce_mean(tf.nn.softmax_cross_entropy_with_logits(logits=logits, labels=batch_labels))\n",
    "    tf.summary.scalar('entropy_loss', loss)\n",
    "\n",
    "with tf.name_scope('accuracy'):\n",
    "    accuracy = tf.reduce_mean(tf.cast(tf.equal(tf.argmax(logits, 1), tf.argmax(batch_labels, 1)), np.float32))\n",
    "    tf.summary.scalar('accuracy', accuracy)\n",
    "\n",
    "\n",
    "optimizer = tf.train.AdamOptimizer(LEARNING_RATE).minimize(loss)\n",
    "saver = tf.train.Saver()\n",
    "summary_op = tf.summary.merge_all()"
   ]
  },
  {
   "cell_type": "markdown",
   "metadata": {},
   "source": [
    "### - Set Graph And Train C3D"
   ]
  },
  {
   "cell_type": "code",
   "execution_count": null,
   "metadata": {},
   "outputs": [
    {
     "name": "stdout",
     "output_type": "stream",
     "text": [
      "Epoch 1, Batch 0: Loss is 3.72930; Accuracy is 0.10000\n",
      "Epoch 1, Batch 10: Loss is 2.65427; Accuracy is 0.10000\n",
      "Epoch 1, Batch 20: Loss is 2.42688; Accuracy is 0.10000\n",
      "Epoch 1, Batch 30: Loss is 2.43753; Accuracy is 0.00000\n",
      "Epoch 1, Batch 40: Loss is 2.43815; Accuracy is 0.00000\n",
      "Epoch 1, Batch 50: Loss is 2.37069; Accuracy is 0.00000\n"
     ]
    }
   ],
   "source": [
    "config = tf.ConfigProto()\n",
    "config.gpu_options.allow_growth = True\n",
    "with tf.Session(config=config) as sess:\n",
    "    train_summary_writer = tf.summary.FileWriter(TRAIN_LOG_DIR, sess.graph)\n",
    "    sess.run(tf.global_variables_initializer())\n",
    "    sess.run(tf.local_variables_initializer())\n",
    "    step = 0\n",
    "    for epoch in range(EPOCH_NUM):\n",
    "        accuracy_epoch = 0\n",
    "        loss_epoch = 0\n",
    "        batch_index = 0\n",
    "        for i in range(len(train_video_indices) // BATCH_SIZE):\n",
    "            step += 1\n",
    "                # Get Batch for training\n",
    "            batch_data, batch_index = data_processing.get_batches(train_set, NUM_CLASSES, batch_index,\n",
    "                                                         train_video_indices, BATCH_SIZE)\n",
    "                # Train\n",
    "            _, loss_out, accuracy_out, summary = sess.run([optimizer, loss, accuracy, summary_op],\n",
    "                                                              feed_dict={batch_clips:batch_data['clips'],\n",
    "                                                              batch_labels:batch_data['labels'],\n",
    "                                                                        keep_prob: 0.5})\n",
    "            loss_epoch += loss_out\n",
    "            accuracy_epoch += accuracy_out\n",
    "\n",
    "            if i % 10 == 0:\n",
    "                print('Epoch %d, Batch %d: Loss is %.5f; Accuracy is %.5f'%(epoch+1, i, loss_out, accuracy_out))\n",
    "                train_summary_writer.add_summary(summary, step)\n",
    "\n",
    "        print('Epoch %d: Average loss is: %.5f; Average accuracy is: %.5f'%(epoch+1, loss_epoch / (len(train_video_indices) // BATCH_SIZE),\n",
    "                                                                                accuracy_epoch / (len(train_video_indices) // BATCH_SIZE)))\n",
    "        accuracy_epoch = 0\n",
    "        loss_epoch = 0\n",
    "        batch_index = 0\n",
    "        #Get Validation Results\n",
    "        for i in range(len(test_video_indices) // BATCH_SIZE):\n",
    "            batch_data, batch_index = data_processing.get_batches(test_set, NUM_CLASSES, batch_index,\n",
    "                                                                      test_video_indices, BATCH_SIZE)\n",
    "            loss_out, accuracy_out = sess.run([loss, accuracy],\n",
    "                                                  feed_dict={batch_clips:batch_data['clips'],\n",
    "                                                             batch_labels:batch_data['labels'],\n",
    "                                                            keep_prob: 1.0})\n",
    "            loss_epoch += loss_out\n",
    "            accuracy_epoch += accuracy_out\n",
    "\n",
    "        print('Test loss is %.5f; Accuracy is %.5f'%(loss_epoch / (len(test_video_indices) // BATCH_SIZE),\n",
    "                                                               accuracy_epoch /(len(test_video_indices) // BATCH_SIZE)))\n",
    "        saver.save(sess, TRAIN_CHECK_POINT + 'c3d_ckpt', global_step=epoch)"
   ]
  },
  {
   "cell_type": "markdown",
   "metadata": {},
   "source": [
    "### "
   ]
  }
 ],
 "metadata": {
  "kernelspec": {
   "display_name": "Python 3",
   "language": "python",
   "name": "python3"
  },
  "language_info": {
   "codemirror_mode": {
    "name": "ipython",
    "version": 3
   },
   "file_extension": ".py",
   "mimetype": "text/x-python",
   "name": "python",
   "nbconvert_exporter": "python",
   "pygments_lexer": "ipython3",
   "version": "3.5.2"
  }
 },
 "nbformat": 4,
 "nbformat_minor": 2
}
